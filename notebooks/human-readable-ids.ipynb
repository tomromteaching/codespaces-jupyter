{
 "cells": [
  {
   "cell_type": "markdown",
   "metadata": {},
   "source": [
    "# Human readable ids"
   ]
  },
  {
   "cell_type": "markdown",
   "metadata": {},
   "source": [
    "Install the package from https://github.com/nebbles/hruid-python"
   ]
  },
  {
   "cell_type": "code",
   "execution_count": 1,
   "metadata": {},
   "outputs": [
    {
     "name": "stdout",
     "output_type": "stream",
     "text": [
      "Collecting hruid\n",
      "  Downloading hruid-0.0.3-py3-none-any.whl (18 kB)\n",
      "Installing collected packages: hruid\n",
      "Successfully installed hruid-0.0.3\n",
      "\n",
      "\u001b[1m[\u001b[0m\u001b[34;49mnotice\u001b[0m\u001b[1;39;49m]\u001b[0m\u001b[39;49m A new release of pip is available: \u001b[0m\u001b[31;49m23.2.1\u001b[0m\u001b[39;49m -> \u001b[0m\u001b[32;49m23.3\u001b[0m\n",
      "\u001b[1m[\u001b[0m\u001b[34;49mnotice\u001b[0m\u001b[1;39;49m]\u001b[0m\u001b[39;49m To update, run: \u001b[0m\u001b[32;49mpython -m pip install --upgrade pip\u001b[0m\n"
     ]
    }
   ],
   "source": [
    "!pip install hruid"
   ]
  },
  {
   "cell_type": "markdown",
   "metadata": {},
   "source": [
    "Follow the instruction in the link to import the library and generate an id."
   ]
  },
  {
   "cell_type": "code",
   "execution_count": 2,
   "metadata": {},
   "outputs": [
    {
     "name": "stdout",
     "output_type": "stream",
     "text": [
      "21-famous-sloths-weigh-cautiously\n"
     ]
    }
   ],
   "source": [
    "import hruid\n",
    "\n",
    "generator = hruid.Generator()\n",
    "phrase = generator.random()\n",
    "print(phrase)"
   ]
  },
  {
   "cell_type": "markdown",
   "metadata": {},
   "source": [
    "Now let's modify them slightly to my liking.\n",
    "I'd like only the first two words without the number."
   ]
  },
  {
   "cell_type": "markdown",
   "metadata": {},
   "source": [
    "First split up the string."
   ]
  },
  {
   "cell_type": "code",
   "execution_count": 10,
   "metadata": {},
   "outputs": [
    {
     "name": "stdout",
     "output_type": "stream",
     "text": [
      "['24', 'pleasant', 'rabbits', 'wash', 'majestically']\n"
     ]
    }
   ],
   "source": [
    "phrase = generator.random()\n",
    "parts = phrase.split(\"-\")\n",
    "print(parts)"
   ]
  },
  {
   "cell_type": "markdown",
   "metadata": {},
   "source": [
    "Select only the second and third item. Indices 1 to 2 (which is one prior to three)"
   ]
  },
  {
   "cell_type": "code",
   "execution_count": 11,
   "metadata": {},
   "outputs": [],
   "source": [
    "selected_parts = parts[1:3]"
   ]
  },
  {
   "cell_type": "markdown",
   "metadata": {},
   "source": [
    "And then put them back together."
   ]
  },
  {
   "cell_type": "code",
   "execution_count": 12,
   "metadata": {},
   "outputs": [
    {
     "name": "stdout",
     "output_type": "stream",
     "text": [
      "pleasant-rabbits\n"
     ]
    }
   ],
   "source": [
    "new_phrase = \"-\".join(selected_parts)\n",
    "print(new_phrase)"
   ]
  },
  {
   "cell_type": "markdown",
   "metadata": {},
   "source": [
    "All nice and cool, but what about doing this 100 times?\n",
    "Sure!"
   ]
  },
  {
   "cell_type": "code",
   "execution_count": 15,
   "metadata": {},
   "outputs": [
    {
     "name": "stdout",
     "output_type": "stream",
     "text": [
      "n = 0: difficult-iguanas\n",
      "n = 1: nice-tigers\n",
      "n = 2: suitable-slugs\n",
      "n = 3: hungry-puppies\n",
      "n = 4: ugly-lions\n",
      "n = 5: cute-foxes\n",
      "n = 6: exciting-snails\n",
      "n = 7: efficient-zebras\n",
      "n = 8: known-badgers\n",
      "n = 9: exciting-raccoons\n",
      "n = 10: powerful-flies\n",
      "n = 11: willing-sloths\n",
      "n = 12: accurate-alligators\n",
      "n = 13: medical-bats\n",
      "n = 14: weak-cheetahs\n",
      "n = 15: southern-cheetahs\n",
      "n = 16: remarkable-newts\n",
      "n = 17: emotional-newts\n",
      "n = 18: expensive-cheetahs\n",
      "n = 19: famous-beetles\n",
      "n = 20: environmental-rabbits\n",
      "n = 21: obviously-reindeer\n",
      "n = 22: civil-toads\n",
      "n = 23: happy-newts\n",
      "n = 24: mental-chimpanzees\n",
      "n = 25: cute-moles\n",
      "n = 26: comprehensive-frogs\n",
      "n = 27: psychological-horses\n",
      "n = 28: various-donkeys\n",
      "n = 29: relevant-llamas\n",
      "n = 30: used-jaguars\n",
      "n = 31: afraid-chickens\n",
      "n = 32: important-snakes\n",
      "n = 33: automatic-lions\n",
      "n = 34: latter-hamster\n",
      "n = 35: successful-zebras\n",
      "n = 36: realistic-snakes\n",
      "n = 37: acceptable-monkeys\n",
      "n = 38: expensive-deer\n",
      "n = 39: eastern-sharks\n",
      "n = 40: unhappy-buffalo\n",
      "n = 41: odd-deer\n",
      "n = 42: serious-alpacas\n",
      "n = 43: different-koalas\n",
      "n = 44: civil-crocodiles\n",
      "n = 45: sudden-mice\n",
      "n = 46: administrative-wolves\n",
      "n = 47: recent-hamster\n",
      "n = 48: asleep-jaguars\n",
      "n = 49: existing-porcupines\n",
      "n = 50: electronic-hamster\n",
      "n = 51: helpful-tigers\n",
      "n = 52: impossible-tigers\n",
      "n = 53: distinct-puppies\n",
      "n = 54: ugly-kittens\n",
      "n = 55: informal-wolves\n",
      "n = 56: foreign-dragons\n",
      "n = 57: capable-cows\n",
      "n = 58: tall-lions\n",
      "n = 59: numerous-lions\n",
      "n = 60: dangerous-crocodiles\n",
      "n = 61: exciting-buffalo\n",
      "n = 62: unusual-snails\n",
      "n = 63: available-pandas\n",
      "n = 64: remarkable-antelopes\n",
      "n = 65: latter-raccoons\n",
      "n = 66: unlikely-tigers\n",
      "n = 67: legal-kangaroos\n",
      "n = 68: numerous-crows\n",
      "n = 69: entire-buffalo\n",
      "n = 70: significant-rooster\n",
      "n = 71: hungry-cheetahs\n",
      "n = 72: serious-armadillos\n",
      "n = 73: odd-kittens\n",
      "n = 74: eastern-raccoons\n",
      "n = 75: dramatic-flies\n",
      "n = 76: electronic-mice\n",
      "n = 77: lucky-crows\n",
      "n = 78: suitable-crows\n",
      "n = 79: electronic-whales\n",
      "n = 80: political-snakes\n",
      "n = 81: suspicious-reindeer\n",
      "n = 82: poor-kangaroos\n",
      "n = 83: informal-cats\n",
      "n = 84: anxious-snakes\n",
      "n = 85: competitive-tigers\n",
      "n = 86: lonely-gophers\n",
      "n = 87: used-dogs\n",
      "n = 88: successful-deer\n",
      "n = 89: mental-elephants\n",
      "n = 90: mad-hamster\n",
      "n = 91: intelligent-gophers\n",
      "n = 92: careful-llamas\n",
      "n = 93: interesting-foxes\n",
      "n = 94: dangerous-gophers\n",
      "n = 95: basic-kangaroos\n",
      "n = 96: competitive-tigers\n",
      "n = 97: realistic-wolves\n",
      "n = 98: unhappy-wombat\n",
      "n = 99: strange-moles\n"
     ]
    }
   ],
   "source": [
    "for n in range(100):\n",
    "    phrase = generator.random()\n",
    "    parts = phrase.split(\"-\")\n",
    "    selected_parts = parts[1:3]\n",
    "    new_phrase = \"-\".join(selected_parts)\n",
    "    print(f\"n = {n}:\", new_phrase)"
   ]
  },
  {
   "cell_type": "code",
   "execution_count": null,
   "metadata": {},
   "outputs": [],
   "source": []
  }
 ],
 "metadata": {
  "kernelspec": {
   "display_name": "Python 3",
   "language": "python",
   "name": "python3"
  },
  "language_info": {
   "codemirror_mode": {
    "name": "ipython",
    "version": 3
   },
   "file_extension": ".py",
   "mimetype": "text/x-python",
   "name": "python",
   "nbconvert_exporter": "python",
   "pygments_lexer": "ipython3",
   "version": "3.10.8"
  }
 },
 "nbformat": 4,
 "nbformat_minor": 2
}
